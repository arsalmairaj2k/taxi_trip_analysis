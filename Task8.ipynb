{
 "cells": [
  {
   "cell_type": "markdown",
   "id": "8a0fd76c-1276-4f8c-a6cf-5ed5b8b54bed",
   "metadata": {},
   "source": [
    "# Open in Google Colab"
   ]
  },
  {
   "cell_type": "markdown",
   "id": "849540ba-d808-4ea4-b500-efb8ad659831",
   "metadata": {},
   "source": [
    "[![Open In Colab](https://colab.research.google.com/assets/colab-badge.svg)](https://colab.research.google.com/github/arsalmairaj2k/taxi_trip_analysis/blob/main/Task8.ipynb)"
   ]
  },
  {
   "cell_type": "markdown",
   "id": "87861101-35b6-4009-bf9e-8590314084bd",
   "metadata": {},
   "source": [
    "# Task 8: Comparing Holdout Validation, Cross-Validation, and K-Fold Validation"
   ]
  },
  {
   "cell_type": "markdown",
   "id": "43c4c248-8f1f-430f-839c-aa3c71857dc0",
   "metadata": {},
   "source": [
    "In this task, I will take an example dataset from the datasets available with sklearn.datasets"
   ]
  },
  {
   "cell_type": "markdown",
   "id": "13ae8a80-3880-4f5e-8c90-9ef4a5a50bce",
   "metadata": {},
   "source": [
    "# Dataset Selection"
   ]
  },
  {
   "cell_type": "code",
   "execution_count": 13,
   "id": "1fa361aa-c7b2-4413-a0b9-cfbed5000019",
   "metadata": {},
   "outputs": [],
   "source": [
    "from sklearn.datasets import fetch_lfw_people # Labeled Faces in the Wild dataset (face recognition)"
   ]
  },
  {
   "cell_type": "markdown",
   "id": "5ef2e66a-79fc-415b-b914-c37c39469832",
   "metadata": {},
   "source": [
    "# Required Libraries"
   ]
  },
  {
   "cell_type": "code",
   "execution_count": 15,
   "id": "a66003c5-487c-4336-aadd-ab6b2ff19708",
   "metadata": {},
   "outputs": [],
   "source": [
    "import pandas as pd\n",
    "import numpy as np\n",
    "from sklearn.model_selection import train_test_split, KFold, LeaveOneOut, cross_val_score\n",
    "from sklearn.linear_model import LogisticRegression  \n",
    "from sklearn.metrics import accuracy_score, f1_score  \n",
    "import matplotlib.pyplot as plt"
   ]
  },
  {
   "cell_type": "markdown",
   "id": "ddec8a9e-3f1b-4625-a698-1f852bad8341",
   "metadata": {},
   "source": [
    "## 1. Dataset Selection: Fetch LFW People dataset"
   ]
  },
  {
   "cell_type": "code",
   "execution_count": 25,
   "id": "be955b06-284e-4e08-b7f7-7cff1e2d886c",
   "metadata": {},
   "outputs": [
    {
     "name": "stdout",
     "output_type": "stream",
     "text": [
      "Number of images: 1288\n",
      "Image shape: (50, 37)\n",
      "Number of features (per image): 1850\n",
      "Number of classes (people): 7\n",
      "Shape of X: (1288, 1850)\n",
      "Shape of y: (1288,)\n"
     ]
    }
   ],
   "source": [
    "lfw_people = fetch_lfw_people(min_faces_per_person=70, resize=0.4)\n",
    "X = lfw_people.data  # Features (flattened face images)\n",
    "y = lfw_people.target  # Target variable (person labels)\n",
    "\n",
    "# Print information about the dataset\n",
    "print(\"Number of images:\", lfw_people.images.shape[0])\n",
    "print(\"Image shape:\", lfw_people.images.shape[1:])  # Height and width\n",
    "print(\"Number of features (per image):\", lfw_people.data.shape[1])\n",
    "print(\"Number of classes (people):\", len(lfw_people.target_names))\n",
    "\n",
    "# Print the shape of the features and target\n",
    "print(\"Shape of X:\", X.shape)\n",
    "print(\"Shape of y:\", y.shape)"
   ]
  },
  {
   "cell_type": "markdown",
   "id": "c051e3da-dcd9-4a4a-be64-3a4f3cae1a22",
   "metadata": {},
   "source": [
    "## 2. Implement Validation Techniques:"
   ]
  },
  {
   "cell_type": "code",
   "execution_count": 35,
   "id": "4dbc3a56-ae52-4ea7-a9e4-7f2173c7072b",
   "metadata": {},
   "outputs": [],
   "source": [
    "# a. Holdout Validation (80-20 split)\n",
    "X_train_holdout, X_test_holdout, y_train_holdout, y_test_holdout = train_test_split(\n",
    "    X, y, test_size=0.2, random_state=42\n",
    ")\n",
    "\n",
    "model_holdout = LogisticRegression(max_iter=10, n_jobs=-1) \n",
    "model_holdout.fit(X_train_holdout, y_train_holdout)\n",
    "y_pred_holdout = model_holdout.predict(X_test_holdout)\n",
    "\n",
    "# b. K-Fold Cross-Validation (k=5)\n",
    "kfold = KFold(n_splits=5, shuffle=True, random_state=42)\n",
    "model_kfold = LogisticRegression(max_iter=10, n_jobs=-1)  \n",
    "accuracy_scores_kfold = cross_val_score(\n",
    "    model_kfold, X, y, cv=kfold, scoring='accuracy')\n"
   ]
  },
  {
   "cell_type": "markdown",
   "id": "994ac062-5712-4864-b2f0-895a8e7aad2b",
   "metadata": {},
   "source": [
    "## 3. Compare Performance Metrics:"
   ]
  },
  {
   "cell_type": "code",
   "execution_count": 39,
   "id": "9672511b-ab71-4e1c-bba5-2858b7d75389",
   "metadata": {},
   "outputs": [
    {
     "name": "stdout",
     "output_type": "stream",
     "text": [
      "Holdout Validation:\n",
      "  Accuracy: 0.5271\n",
      "  F1-score: 0.4467\n",
      "\n",
      "K-Fold Cross-Validation:\n",
      "  Mean Accuracy: 0.5210\n",
      "  Std Accuracy: 0.0130\n",
      "\n",
      "\n",
      "Comparison Table:\n",
      "         Accuracy  F1-score   Std Dev\n",
      "Holdout  0.527132   0.44669       NaN\n",
      "K-Fold   0.520954       NaN  0.012963\n"
     ]
    },
    {
     "data": {
      "image/png": "[encoded data removed]",
      "text/plain": [
       "<Figure size 800x600 with 1 Axes>"
      ]
     },
     "metadata": {},
     "output_type": "display_data"
    },
    {
     "ename": "ValueError",
     "evalue": "shape mismatch: objects cannot be broadcast to a single shape.  Mismatch is between arg 0 with shape (2,) and arg 1 with shape (3,).",
     "output_type": "error",
     "traceback": [
      "\u001b[1;31m---------------------------------------------------------------------------\u001b[0m",
      "\u001b[1;31mValueError\u001b[0m                                Traceback (most recent call last)",
      "Cell \u001b[1;32mIn[39], line 38\u001b[0m\n\u001b[0;32m     36\u001b[0m \u001b[38;5;66;03m# Plotting F1-score\u001b[39;00m\n\u001b[0;32m     37\u001b[0m plt\u001b[38;5;241m.\u001b[39mfigure(figsize\u001b[38;5;241m=\u001b[39m(\u001b[38;5;241m8\u001b[39m, \u001b[38;5;241m6\u001b[39m))\n\u001b[1;32m---> 38\u001b[0m plt\u001b[38;5;241m.\u001b[39mbar([\u001b[38;5;124m'\u001b[39m\u001b[38;5;124mHoldout\u001b[39m\u001b[38;5;124m'\u001b[39m, \u001b[38;5;124m'\u001b[39m\u001b[38;5;124mK-Fold\u001b[39m\u001b[38;5;124m'\u001b[39m], [f1_holdout, np\u001b[38;5;241m.\u001b[39mnan, np\u001b[38;5;241m.\u001b[39mnan ], color\u001b[38;5;241m=\u001b[39m\u001b[38;5;124m'\u001b[39m\u001b[38;5;124mlightcoral\u001b[39m\u001b[38;5;124m'\u001b[39m)\n\u001b[0;32m     39\u001b[0m plt\u001b[38;5;241m.\u001b[39mylabel(\u001b[38;5;124m'\u001b[39m\u001b[38;5;124mF1-score\u001b[39m\u001b[38;5;124m'\u001b[39m)\n\u001b[0;32m     40\u001b[0m plt\u001b[38;5;241m.\u001b[39mtitle(\u001b[38;5;124m'\u001b[39m\u001b[38;5;124mF1-score Comparison\u001b[39m\u001b[38;5;124m'\u001b[39m)\n",
      "File \u001b[1;32mD:\\Anaconda\\Lib\\site-packages\\matplotlib\\pyplot.py:2754\u001b[0m, in \u001b[0;36mbar\u001b[1;34m(x, height, width, bottom, align, data, **kwargs)\u001b[0m\n\u001b[0;32m   2743\u001b[0m \u001b[38;5;129m@_copy_docstring_and_deprecators\u001b[39m(Axes\u001b[38;5;241m.\u001b[39mbar)\n\u001b[0;32m   2744\u001b[0m \u001b[38;5;28;01mdef\u001b[39;00m \u001b[38;5;21mbar\u001b[39m(\n\u001b[0;32m   2745\u001b[0m     x: \u001b[38;5;28mfloat\u001b[39m \u001b[38;5;241m|\u001b[39m ArrayLike,\n\u001b[1;32m   (...)\u001b[0m\n\u001b[0;32m   2752\u001b[0m     \u001b[38;5;241m*\u001b[39m\u001b[38;5;241m*\u001b[39mkwargs,\n\u001b[0;32m   2753\u001b[0m ) \u001b[38;5;241m-\u001b[39m\u001b[38;5;241m>\u001b[39m BarContainer:\n\u001b[1;32m-> 2754\u001b[0m     \u001b[38;5;28;01mreturn\u001b[39;00m gca()\u001b[38;5;241m.\u001b[39mbar(\n\u001b[0;32m   2755\u001b[0m         x,\n\u001b[0;32m   2756\u001b[0m         height,\n\u001b[0;32m   2757\u001b[0m         width\u001b[38;5;241m=\u001b[39mwidth,\n\u001b[0;32m   2758\u001b[0m         bottom\u001b[38;5;241m=\u001b[39mbottom,\n\u001b[0;32m   2759\u001b[0m         align\u001b[38;5;241m=\u001b[39malign,\n\u001b[0;32m   2760\u001b[0m         \u001b[38;5;241m*\u001b[39m\u001b[38;5;241m*\u001b[39m({\u001b[38;5;124m\"\u001b[39m\u001b[38;5;124mdata\u001b[39m\u001b[38;5;124m\"\u001b[39m: data} \u001b[38;5;28;01mif\u001b[39;00m data \u001b[38;5;129;01mis\u001b[39;00m \u001b[38;5;129;01mnot\u001b[39;00m \u001b[38;5;28;01mNone\u001b[39;00m \u001b[38;5;28;01melse\u001b[39;00m {}),\n\u001b[0;32m   2761\u001b[0m         \u001b[38;5;241m*\u001b[39m\u001b[38;5;241m*\u001b[39mkwargs,\n\u001b[0;32m   2762\u001b[0m     )\n",
      "File \u001b[1;32mD:\\Anaconda\\Lib\\site-packages\\matplotlib\\__init__.py:1465\u001b[0m, in \u001b[0;36m_preprocess_data.<locals>.inner\u001b[1;34m(ax, data, *args, **kwargs)\u001b[0m\n\u001b[0;32m   1462\u001b[0m \u001b[38;5;129m@functools\u001b[39m\u001b[38;5;241m.\u001b[39mwraps(func)\n\u001b[0;32m   1463\u001b[0m \u001b[38;5;28;01mdef\u001b[39;00m \u001b[38;5;21minner\u001b[39m(ax, \u001b[38;5;241m*\u001b[39margs, data\u001b[38;5;241m=\u001b[39m\u001b[38;5;28;01mNone\u001b[39;00m, \u001b[38;5;241m*\u001b[39m\u001b[38;5;241m*\u001b[39mkwargs):\n\u001b[0;32m   1464\u001b[0m     \u001b[38;5;28;01mif\u001b[39;00m data \u001b[38;5;129;01mis\u001b[39;00m \u001b[38;5;28;01mNone\u001b[39;00m:\n\u001b[1;32m-> 1465\u001b[0m         \u001b[38;5;28;01mreturn\u001b[39;00m func(ax, \u001b[38;5;241m*\u001b[39m\u001b[38;5;28mmap\u001b[39m(sanitize_sequence, args), \u001b[38;5;241m*\u001b[39m\u001b[38;5;241m*\u001b[39mkwargs)\n\u001b[0;32m   1467\u001b[0m     bound \u001b[38;5;241m=\u001b[39m new_sig\u001b[38;5;241m.\u001b[39mbind(ax, \u001b[38;5;241m*\u001b[39margs, \u001b[38;5;241m*\u001b[39m\u001b[38;5;241m*\u001b[39mkwargs)\n\u001b[0;32m   1468\u001b[0m     auto_label \u001b[38;5;241m=\u001b[39m (bound\u001b[38;5;241m.\u001b[39marguments\u001b[38;5;241m.\u001b[39mget(label_namer)\n\u001b[0;32m   1469\u001b[0m                   \u001b[38;5;129;01mor\u001b[39;00m bound\u001b[38;5;241m.\u001b[39mkwargs\u001b[38;5;241m.\u001b[39mget(label_namer))\n",
      "File \u001b[1;32mD:\\Anaconda\\Lib\\site-packages\\matplotlib\\axes\\_axes.py:2461\u001b[0m, in \u001b[0;36mAxes.bar\u001b[1;34m(self, x, height, width, bottom, align, **kwargs)\u001b[0m\n\u001b[0;32m   2458\u001b[0m     \u001b[38;5;28;01mif\u001b[39;00m yerr \u001b[38;5;129;01mis\u001b[39;00m \u001b[38;5;129;01mnot\u001b[39;00m \u001b[38;5;28;01mNone\u001b[39;00m:\n\u001b[0;32m   2459\u001b[0m         yerr \u001b[38;5;241m=\u001b[39m \u001b[38;5;28mself\u001b[39m\u001b[38;5;241m.\u001b[39m_convert_dx(yerr, y0, y, \u001b[38;5;28mself\u001b[39m\u001b[38;5;241m.\u001b[39mconvert_yunits)\n\u001b[1;32m-> 2461\u001b[0m x, height, width, y, linewidth, hatch \u001b[38;5;241m=\u001b[39m np\u001b[38;5;241m.\u001b[39mbroadcast_arrays(\n\u001b[0;32m   2462\u001b[0m     \u001b[38;5;66;03m# Make args iterable too.\u001b[39;00m\n\u001b[0;32m   2463\u001b[0m     np\u001b[38;5;241m.\u001b[39matleast_1d(x), height, width, y, linewidth, hatch)\n\u001b[0;32m   2465\u001b[0m \u001b[38;5;66;03m# Now that units have been converted, set the tick locations.\u001b[39;00m\n\u001b[0;32m   2466\u001b[0m \u001b[38;5;28;01mif\u001b[39;00m orientation \u001b[38;5;241m==\u001b[39m \u001b[38;5;124m'\u001b[39m\u001b[38;5;124mvertical\u001b[39m\u001b[38;5;124m'\u001b[39m:\n",
      "File \u001b[1;32mD:\\Anaconda\\Lib\\site-packages\\numpy\\lib\\stride_tricks.py:540\u001b[0m, in \u001b[0;36mbroadcast_arrays\u001b[1;34m(subok, *args)\u001b[0m\n\u001b[0;32m    533\u001b[0m \u001b[38;5;66;03m# nditer is not used here to avoid the limit of 32 arrays.\u001b[39;00m\n\u001b[0;32m    534\u001b[0m \u001b[38;5;66;03m# Otherwise, something like the following one-liner would suffice:\u001b[39;00m\n\u001b[0;32m    535\u001b[0m \u001b[38;5;66;03m# return np.nditer(args, flags=['multi_index', 'zerosize_ok'],\u001b[39;00m\n\u001b[0;32m    536\u001b[0m \u001b[38;5;66;03m#                  order='C').itviews\u001b[39;00m\n\u001b[0;32m    538\u001b[0m args \u001b[38;5;241m=\u001b[39m [np\u001b[38;5;241m.\u001b[39marray(_m, copy\u001b[38;5;241m=\u001b[39m\u001b[38;5;28;01mFalse\u001b[39;00m, subok\u001b[38;5;241m=\u001b[39msubok) \u001b[38;5;28;01mfor\u001b[39;00m _m \u001b[38;5;129;01min\u001b[39;00m args]\n\u001b[1;32m--> 540\u001b[0m shape \u001b[38;5;241m=\u001b[39m _broadcast_shape(\u001b[38;5;241m*\u001b[39margs)\n\u001b[0;32m    542\u001b[0m \u001b[38;5;28;01mif\u001b[39;00m \u001b[38;5;28mall\u001b[39m(array\u001b[38;5;241m.\u001b[39mshape \u001b[38;5;241m==\u001b[39m shape \u001b[38;5;28;01mfor\u001b[39;00m array \u001b[38;5;129;01min\u001b[39;00m args):\n\u001b[0;32m    543\u001b[0m     \u001b[38;5;66;03m# Common case where nothing needs to be broadcasted.\u001b[39;00m\n\u001b[0;32m    544\u001b[0m     \u001b[38;5;28;01mreturn\u001b[39;00m args\n",
      "File \u001b[1;32mD:\\Anaconda\\Lib\\site-packages\\numpy\\lib\\stride_tricks.py:422\u001b[0m, in \u001b[0;36m_broadcast_shape\u001b[1;34m(*args)\u001b[0m\n\u001b[0;32m    417\u001b[0m \u001b[38;5;250m\u001b[39m\u001b[38;5;124;03m\"\"\"Returns the shape of the arrays that would result from broadcasting the\u001b[39;00m\n\u001b[0;32m    418\u001b[0m \u001b[38;5;124;03msupplied arrays against each other.\u001b[39;00m\n\u001b[0;32m    419\u001b[0m \u001b[38;5;124;03m\"\"\"\u001b[39;00m\n\u001b[0;32m    420\u001b[0m \u001b[38;5;66;03m# use the old-iterator because np.nditer does not handle size 0 arrays\u001b[39;00m\n\u001b[0;32m    421\u001b[0m \u001b[38;5;66;03m# consistently\u001b[39;00m\n\u001b[1;32m--> 422\u001b[0m b \u001b[38;5;241m=\u001b[39m np\u001b[38;5;241m.\u001b[39mbroadcast(\u001b[38;5;241m*\u001b[39margs[:\u001b[38;5;241m32\u001b[39m])\n\u001b[0;32m    423\u001b[0m \u001b[38;5;66;03m# unfortunately, it cannot handle 32 or more arguments directly\u001b[39;00m\n\u001b[0;32m    424\u001b[0m \u001b[38;5;28;01mfor\u001b[39;00m pos \u001b[38;5;129;01min\u001b[39;00m \u001b[38;5;28mrange\u001b[39m(\u001b[38;5;241m32\u001b[39m, \u001b[38;5;28mlen\u001b[39m(args), \u001b[38;5;241m31\u001b[39m):\n\u001b[0;32m    425\u001b[0m     \u001b[38;5;66;03m# ironically, np.broadcast does not properly handle np.broadcast\u001b[39;00m\n\u001b[0;32m    426\u001b[0m     \u001b[38;5;66;03m# objects (it treats them as scalars)\u001b[39;00m\n\u001b[0;32m    427\u001b[0m     \u001b[38;5;66;03m# use broadcasting to avoid allocating the full array\u001b[39;00m\n",
      "\u001b[1;31mValueError\u001b[0m: shape mismatch: objects cannot be broadcast to a single shape.  Mismatch is between arg 0 with shape (2,) and arg 1 with shape (3,)."
     ]
    },
    {
     "data": {
      "image/png": "[encoded data removed]",
      "text/plain": [
       "<Figure size 800x600 with 1 Axes>"
      ]
     },
     "metadata": {},
     "output_type": "display_data"
    }
   ],
   "source": [
    "# Holdout\n",
    "accuracy_holdout = accuracy_score(y_test_holdout, y_pred_holdout)\n",
    "f1_holdout = f1_score(y_test_holdout, y_pred_holdout, average='weighted') # Added F1-score\n",
    "\n",
    "# K-Fold\n",
    "accuracy_kfold_mean = accuracy_scores_kfold.mean()\n",
    "accuracy_kfold_std = accuracy_scores_kfold.std()\n",
    "\n",
    "# Print and Plot Results\n",
    "print(\"Holdout Validation:\")\n",
    "print(f\"  Accuracy: {accuracy_holdout:.4f}\")\n",
    "print(f\"  F1-score: {f1_holdout:.4f}\\n\")\n",
    "\n",
    "print(\"K-Fold Cross-Validation:\")\n",
    "print(f\"  Mean Accuracy: {accuracy_kfold_mean:.4f}\")\n",
    "print(f\"  Std Accuracy: {accuracy_kfold_std:.4f}\\n\")\n",
    "\n",
    "\n",
    "results = {\n",
    "    'Holdout': [accuracy_holdout, f1_holdout, np.nan],\n",
    "    'K-Fold': [accuracy_kfold_mean, np.nan, accuracy_kfold_std]\n",
    "}\n",
    "\n",
    "results_df = pd.DataFrame.from_dict(results, orient='index', columns=['Accuracy', 'F1-score', 'Std Dev'])\n",
    "\n",
    "print(\"\\nComparison Table:\")\n",
    "print(results_df)\n",
    "\n",
    "# Plotting Accuracy\n",
    "plt.figure(figsize=(8, 6))\n",
    "plt.bar(['Holdout', 'K-Fold'], [accuracy_holdout, accuracy_kfold_mean], color='skyblue')\n",
    "plt.ylabel('Accuracy')\n",
    "plt.title('Accuracy Comparison')\n",
    "plt.show()\n",
    "\n",
    "# Plotting F1-score\n",
    "plt.figure(figsize=(8, 6))\n",
    "plt.bar(['Holdout', 'K-Fold'], [f1_holdout, np.nan, np.nan ], color='lightcoral')\n",
    "plt.ylabel('F1-score')\n",
    "plt.title('F1-score Comparison')\n",
    "plt.show()"
   ]
  },
  {
   "cell_type": "markdown",
   "id": "ab3e92f2-f5ab-4abe-b335-b03f6f863473",
   "metadata": {},
   "source": [
    "## 4. Discuss Bias-Variance Tradeoff\n",
    "\n",
    "### Holdout Validation:\n",
    "\n",
    "Bias: Holdout validation can introduce bias if the chosen test set is not representative of the overall data distribution. If the test set happens to contain easier or harder examples, the performance estimate will be skewed. With a single split, you have no way to assess the variability introduced by this choice of split.\n",
    "Variance: Holdout validation can have high variance, especially with smaller test sets. The performance will be very sensitive to the specific split. A different random split could lead to significantly different results. This is what we see in your results: a single point estimate with no indication of its variability.\n",
    "\n",
    "### K-Fold Cross-Validation:\n",
    "\n",
    "Bias: K-fold cross-validation reduces bias by averaging the performance across multiple folds. Each data point is used for both training and validation, so the model gets a more comprehensive view of the data. It is generally better than a single holdout split.\n",
    "Variance: K-fold cross-validation reduces variance by averaging the performance across multiple folds. The standard deviation of the scores gives you a measure of how much the performance varies across different splits of the data. This provides a more robust estimate of how the model will perform on unseen data. Your results show a standard deviation of 0.0130, which gives you an idea of the variability."
   ]
  },
  {
   "cell_type": "markdown",
   "id": "a12eefc3-db9b-4aa3-a252-746baf6689e8",
   "metadata": {},
   "source": [
    "## 5. Final Recommendation:\n",
    "\n",
    "Based on your results and the bias-variance considerations, K-Fold Cross-Validation is the most suitable validation method for this dataset."
   ]
  },
  {
   "cell_type": "code",
   "execution_count": null,
   "id": "161ec509-49e0-427b-a8f2-3ea5e897ce11",
   "metadata": {},
   "outputs": [],
   "source": []
  }
 ],
 "metadata": {
  "kernelspec": {
   "display_name": "Python [conda env:base] *",
   "language": "python",
   "name": "conda-base-py"
  },
  "language_info": {
   "codemirror_mode": {
    "name": "ipython",
    "version": 3
   },
   "file_extension": ".py",
   "mimetype": "text/x-python",
   "name": "python",
   "nbconvert_exporter": "python",
   "pygments_lexer": "ipython3",
   "version": "3.12.4"
  }
 },
 "nbformat": 4,
 "nbformat_minor": 5
}
