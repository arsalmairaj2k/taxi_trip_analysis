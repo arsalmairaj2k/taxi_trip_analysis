{
  "cells": [
    {
      "cell_type": "markdown",
      "id": "26216402-b61b-42ca-bda4-3c2e52941c0f",
      "metadata": {
        "id": "26216402-b61b-42ca-bda4-3c2e52941c0f"
      },
      "source": [
        "# Open notebook in Google Colab"
      ]
    },
    {
      "cell_type": "markdown",
      "source": [
        "[![Open In Colab](https://colab.research.google.com/assets/colab-badge.svg)](https://colab.research.google.com/github/arsalmairaj2k/taxi_trip_analysis/blob/main/Task4,5,6.ipynb)"
      ],
      "metadata": {
        "id": "xdfu7eb9xuCs"
      },
      "id": "xdfu7eb9xuCs"
    },
    {
      "cell_type": "markdown",
      "id": "7e383a4b-d0b6-4ee2-b0c9-de11b377a45c",
      "metadata": {
        "id": "7e383a4b-d0b6-4ee2-b0c9-de11b377a45c"
      },
      "source": [
        "## To work on our model, we need to perform the operations from our previous task (handling missing values, encoding categorical features, and standardizing numerical features or using Minmax Scaling)"
      ]
    },
    {
      "cell_type": "markdown",
      "id": "442337ed-4a5a-4d41-b334-cc2509f7e9c5",
      "metadata": {
        "id": "442337ed-4a5a-4d41-b334-cc2509f7e9c5"
      },
      "source": [
        "# Load Dataset"
      ]
    },
    {
      "cell_type": "code",
      "execution_count": null,
      "id": "cb8a8dfc-db8d-4dd1-ad08-b13a05bc637e",
      "metadata": {
        "id": "cb8a8dfc-db8d-4dd1-ad08-b13a05bc637e"
      },
      "outputs": [],
      "source": [
        "import pandas as pd\n",
        "\n",
        "GITHUB_URL = \"https://github.com/arsalmairaj2k/taxi_trip_analysis/raw/main/TaxiTripData.xlsx\"\n",
        "df = pd.read_excel(GITHUB_URL)"
      ]
    },
    {
      "cell_type": "markdown",
      "id": "b0bb1f27-ef93-49cd-9d42-3ce917167b60",
      "metadata": {
        "id": "b0bb1f27-ef93-49cd-9d42-3ce917167b60"
      },
      "source": [
        "# Handle missing values"
      ]
    },
    {
      "cell_type": "markdown",
      "id": "8171b0f3-82fa-4c5e-8f74-b6ebc819b925",
      "metadata": {
        "id": "8171b0f3-82fa-4c5e-8f74-b6ebc819b925"
      },
      "source": [
        "## Identify Missing Values & uisng Imputer"
      ]
    },
    {
      "cell_type": "code",
      "execution_count": null,
      "id": "ed3c8a59-1a23-4cd7-a459-ef0b75e65c92",
      "metadata": {
        "id": "ed3c8a59-1a23-4cd7-a459-ef0b75e65c92",
        "outputId": "28481431-8cfd-488c-912b-6ca716e47ec9"
      },
      "outputs": [
        {
          "name": "stdout",
          "output_type": "stream",
          "text": [
            "Missing Values per Column:\n",
            "Series([], dtype: int64)\n",
            "\n",
            "Total Missing Values in Dataset: 0\n",
            "   VendorID tpep_pickup_datetime tpep_dropoff_datetime  passenger_count  \\\n",
            "0       1.0  2020-01-01 00:28:00   2020-01-01 00:33:00              1.0   \n",
            "1       1.0  2020-01-01 00:35:00   2020-01-01 00:43:00              1.0   \n",
            "2       1.0  2020-01-01 00:47:00   2020-01-01 00:53:00              1.0   \n",
            "3       1.0  2020-01-01 00:55:00   2020-01-01 01:00:00              1.0   \n",
            "4       2.0  2020-01-01 00:01:00   2020-01-01 00:04:00              1.0   \n",
            "\n",
            "   trip_distance  RatecodeID store_and_fwd_flag  PULocationID  DOLocationID  \\\n",
            "0            1.2         1.0                  N         238.0         239.0   \n",
            "1            1.2         1.0                  N         239.0         238.0   \n",
            "2            0.6         1.0                  N         238.0         238.0   \n",
            "3            0.8         1.0                  N         238.0         151.0   \n",
            "4            0.0         1.0                  N         193.0         193.0   \n",
            "\n",
            "   payment_type  fare_amount  extra  mta_tax  tip_amount  tolls_amount  \\\n",
            "0           1.0          6.0    3.0      0.5        1.47           0.0   \n",
            "1           1.0          7.0    3.0      0.5        1.50           0.0   \n",
            "2           1.0          6.0    3.0      0.5        1.00           0.0   \n",
            "3           1.0          5.5    0.5      0.5        1.36           0.0   \n",
            "4           2.0          3.5    0.5      0.5        0.00           0.0   \n",
            "\n",
            "   improvement_surcharge  total_amount  congestion_surcharge  \n",
            "0                    0.3         11.27                   2.5  \n",
            "1                    0.3         12.30                   2.5  \n",
            "2                    0.3         10.80                   2.5  \n",
            "3                    0.3          8.16                   0.0  \n",
            "4                    0.3          4.80                   0.0  \n"
          ]
        }
      ],
      "source": [
        "from sklearn.impute import SimpleImputer\n",
        "\n",
        "# Checking for missing values\n",
        "missing_values = df.isnull().sum()\n",
        "\n",
        "# Display columns with missing values\n",
        "print(\"Missing Values per Column:\")\n",
        "print(missing_values[missing_values > 0])\n",
        "\n",
        "# Total missing values in the dataset\n",
        "total_missing = df.isnull().sum().sum()\n",
        "print(f\"\\nTotal Missing Values in Dataset: {total_missing}\")\n",
        "\n",
        "# Selecting only numeric features (excluding timestamps and categorical variables)\n",
        "numeric_cols = df.select_dtypes(include=['number']).columns\n",
        "\n",
        "# Using Median Imputation on numeric columns only\n",
        "imputer = SimpleImputer(strategy='median')\n",
        "df[numeric_cols] = imputer.fit_transform(df[numeric_cols])\n",
        "\n",
        "# Handling missing values in categorical columns with mode (as done before as well)\n",
        "categorical_cols = df.select_dtypes(include=['object']).columns\n",
        "for col in categorical_cols:\n",
        "    df.loc[:, col] = df[col].fillna(df[col].mode()[0])\n",
        "\n",
        "print(df.head())"
      ]
    },
    {
      "cell_type": "markdown",
      "id": "8232e89d-5034-49e5-80c7-d65a18e1f864",
      "metadata": {
        "id": "8232e89d-5034-49e5-80c7-d65a18e1f864"
      },
      "source": [
        "# Converting categorical features to numerical"
      ]
    },
    {
      "cell_type": "code",
      "execution_count": null,
      "id": "69154d5f-b817-4886-8b2b-a57cefa58288",
      "metadata": {
        "id": "69154d5f-b817-4886-8b2b-a57cefa58288",
        "outputId": "878456db-dd8c-4ff6-9979-d3c539aef35e"
      },
      "outputs": [
        {
          "name": "stdout",
          "output_type": "stream",
          "text": [
            "   VendorID tpep_pickup_datetime tpep_dropoff_datetime  passenger_count  \\\n",
            "0       1.0  2020-01-01 00:28:00   2020-01-01 00:33:00              1.0   \n",
            "1       1.0  2020-01-01 00:35:00   2020-01-01 00:43:00              1.0   \n",
            "2       1.0  2020-01-01 00:47:00   2020-01-01 00:53:00              1.0   \n",
            "3       1.0  2020-01-01 00:55:00   2020-01-01 01:00:00              1.0   \n",
            "4       2.0  2020-01-01 00:01:00   2020-01-01 00:04:00              1.0   \n",
            "\n",
            "   trip_distance  RatecodeID  PULocationID  DOLocationID  payment_type  \\\n",
            "0            1.2         1.0         238.0         239.0           1.0   \n",
            "1            1.2         1.0         239.0         238.0           1.0   \n",
            "2            0.6         1.0         238.0         238.0           1.0   \n",
            "3            0.8         1.0         238.0         151.0           1.0   \n",
            "4            0.0         1.0         193.0         193.0           2.0   \n",
            "\n",
            "   fare_amount  extra  mta_tax  tip_amount  tolls_amount  \\\n",
            "0          6.0    3.0      0.5        1.47           0.0   \n",
            "1          7.0    3.0      0.5        1.50           0.0   \n",
            "2          6.0    3.0      0.5        1.00           0.0   \n",
            "3          5.5    0.5      0.5        1.36           0.0   \n",
            "4          3.5    0.5      0.5        0.00           0.0   \n",
            "\n",
            "   improvement_surcharge  total_amount  congestion_surcharge  \\\n",
            "0                    0.3         11.27                   2.5   \n",
            "1                    0.3         12.30                   2.5   \n",
            "2                    0.3         10.80                   2.5   \n",
            "3                    0.3          8.16                   0.0   \n",
            "4                    0.3          4.80                   0.0   \n",
            "\n",
            "   store_and_fwd_flag_Y  \n",
            "0                     0  \n",
            "1                     0  \n",
            "2                     0  \n",
            "3                     0  \n",
            "4                     0  \n"
          ]
        }
      ],
      "source": [
        "# Ensure 'store_and_fwd_flag' is treated as a string before encoding\n",
        "df['store_and_fwd_flag'] = df['store_and_fwd_flag'].astype(str)\n",
        "\n",
        "# Apply One-Hot Encoding\n",
        "df = pd.get_dummies(df, columns=['store_and_fwd_flag'], drop_first=True)\n",
        "\n",
        "# Convert the new column to integer type (0 and 1)\n",
        "df['store_and_fwd_flag_Y'] = df['store_and_fwd_flag_Y'].astype(int)\n",
        "\n",
        "# Display the first few rows to verify the transformation\n",
        "print(df.head())\n"
      ]
    },
    {
      "cell_type": "markdown",
      "id": "af49b9e7-ed37-4592-ba0e-88938bce38e2",
      "metadata": {
        "id": "af49b9e7-ed37-4592-ba0e-88938bce38e2"
      },
      "source": [
        "# Task 4: Model Selection & Training"
      ]
    },
    {
      "cell_type": "markdown",
      "id": "7e38ed77-1ee6-4f3e-ae35-83a9061647d6",
      "metadata": {
        "id": "7e38ed77-1ee6-4f3e-ae35-83a9061647d6"
      },
      "source": [
        "Having preprocessed our data, including handling missing values, encoding categorical features, and standardizing numerical features, we are now prepared for the core task of building a predictive model. This section details the selection and training of a model to predict 'fare_amount', leveraging the data preparation steps we have already completed."
      ]
    },
    {
      "cell_type": "markdown",
      "id": "63000d1a-a029-4e69-a562-32ab682f8adf",
      "metadata": {
        "id": "63000d1a-a029-4e69-a562-32ab682f8adf"
      },
      "source": [
        "## 1. Train-Test Split"
      ]
    },
    {
      "cell_type": "code",
      "execution_count": null,
      "id": "68719c3a-ced4-440a-ad85-005cb7d2d18f",
      "metadata": {
        "id": "68719c3a-ced4-440a-ad85-005cb7d2d18f",
        "outputId": "9e5fd722-a17f-47bc-b45f-7a9378ea48c5"
      },
      "outputs": [
        {
          "name": "stdout",
          "output_type": "stream",
          "text": [
            "Training Set: X_train = (838860, 17), y_train = (838860,)\n",
            "Test Set: X_test = (209715, 17), y_test = (209715,)\n",
            "\n",
            "First few rows of X_train:\n",
            "        VendorID  tpep_pickup_datetime  tpep_dropoff_datetime  \\\n",
            "408561       2.0            1583073960             1583074920   \n",
            "70143        2.0            1577872080             1577873040   \n",
            "708782       2.0            1588298340             1588298820   \n",
            "572694       2.0            1585743420             1585743600   \n",
            "774181       1.0            1588344360             1588344480   \n",
            "\n",
            "        passenger_count  trip_distance  RatecodeID  PULocationID  \\\n",
            "408561              1.0           2.92         1.0         186.0   \n",
            "70143               6.0          10.11         1.0         132.0   \n",
            "708782              2.0           1.28         1.0         148.0   \n",
            "572694              1.0           0.77         1.0         237.0   \n",
            "774181              0.0           0.60         1.0         261.0   \n",
            "\n",
            "        DOLocationID  payment_type  extra  mta_tax  tip_amount  tolls_amount  \\\n",
            "408561           4.0           2.0    0.0      0.5         0.0           0.0   \n",
            "70143           56.0           2.0    0.0      0.5         0.0           0.0   \n",
            "708782         107.0           1.0    0.5      0.5         2.7           0.0   \n",
            "572694         162.0           2.0    0.0      0.5         0.0           0.0   \n",
            "774181         261.0           2.0    2.5      0.5         0.0           0.0   \n",
            "\n",
            "        improvement_surcharge  total_amount  congestion_surcharge  \\\n",
            "408561                    0.3          16.3                   2.5   \n",
            "70143                     0.3          29.3                   0.0   \n",
            "708782                    0.3          13.5                   2.5   \n",
            "572694                    0.3           8.3                   2.5   \n",
            "774181                    0.3           7.3                   2.5   \n",
            "\n",
            "        store_and_fwd_flag_Y  \n",
            "408561                     0  \n",
            "70143                      0  \n",
            "708782                     0  \n",
            "572694                     0  \n",
            "774181                     0  \n",
            "\n",
            "First few rows of y_train:\n",
            "408561    13.0\n",
            "70143     28.5\n",
            "708782     7.0\n",
            "572694     5.0\n",
            "774181     4.0\n",
            "Name: fare_amount, dtype: float64\n",
            "\n",
            "First few rows of X_test:\n",
            "        VendorID  tpep_pickup_datetime  tpep_dropoff_datetime  \\\n",
            "781974       2.0            1588342620             1588342920   \n",
            "937737       2.0            1591021800             1591023660   \n",
            "907828       1.0            1591008720             1591010100   \n",
            "784628       1.0            1588347360             1588348680   \n",
            "662460       2.0            1585776840             1585777020   \n",
            "\n",
            "        passenger_count  trip_distance  RatecodeID  PULocationID  \\\n",
            "781974              1.0           1.52         1.0         141.0   \n",
            "937737              6.0          10.03         1.0         138.0   \n",
            "907828              1.0           6.60         1.0         238.0   \n",
            "784628              1.0           5.30         1.0         141.0   \n",
            "662460              1.0           0.92         1.0         236.0   \n",
            "\n",
            "        DOLocationID  payment_type  extra  mta_tax  tip_amount  tolls_amount  \\\n",
            "781974         263.0           2.0    0.0      0.5        0.00          0.00   \n",
            "937737         230.0           1.0    0.0      0.5        8.28          6.12   \n",
            "907828          87.0           1.0    2.5      0.5        6.45          0.00   \n",
            "784628         129.0           1.0    2.5      0.5        4.55          0.00   \n",
            "662460         141.0           2.0    0.5      0.5        0.00          0.00   \n",
            "\n",
            "        improvement_surcharge  total_amount  congestion_surcharge  \\\n",
            "781974                    0.3          9.80                   2.5   \n",
            "937737                    0.3         49.70                   2.5   \n",
            "907828                    0.3         32.25                   2.5   \n",
            "784628                    0.3         27.35                   2.5   \n",
            "662460                    0.3          8.80                   2.5   \n",
            "\n",
            "        store_and_fwd_flag_Y  \n",
            "781974                     0  \n",
            "937737                     0  \n",
            "907828                     0  \n",
            "784628                     0  \n",
            "662460                     0  \n",
            "\n",
            "First few rows of y_test:\n",
            "781974     6.5\n",
            "937737    32.0\n",
            "907828    22.5\n",
            "784628    19.5\n",
            "662460     5.0\n",
            "Name: fare_amount, dtype: float64\n"
          ]
        }
      ],
      "source": [
        "from sklearn.model_selection import train_test_split\n",
        "\n",
        "# Define target variable\n",
        "target_variable = 'fare_amount'\n",
        "\n",
        "# Convert datetime columns to seconds\n",
        "df['tpep_pickup_datetime'] = pd.to_datetime(df['tpep_pickup_datetime']).astype('int64') // 10**9 # Convert to seconds\n",
        "df['tpep_dropoff_datetime'] = pd.to_datetime(df['tpep_dropoff_datetime']).astype('int64') // 10**9 # Convert to seconds\n",
        "\n",
        "# Separate features (X) and target (y)\n",
        "X = df.drop(columns=[target_variable])  # Features\n",
        "y = df[target_variable]  # Target variable\n",
        "\n",
        "# Split into 80% training and 20% testing\n",
        "X_train, X_test, y_train, y_test = train_test_split(X, y, test_size=0.2, random_state=42)\n",
        "\n",
        "# Print shapes of the datasets\n",
        "print(f\"Training Set: X_train = {X_train.shape}, y_train = {y_train.shape}\")\n",
        "print(f\"Test Set: X_test = {X_test.shape}, y_test = {y_test.shape}\")\n",
        "\n",
        "# Print the first few rows of the training and testing sets to inspect\n",
        "print(\"\\nFirst few rows of X_train:\")\n",
        "print(X_train.head())\n",
        "print(\"\\nFirst few rows of y_train:\")\n",
        "print(y_train.head())\n",
        "print(\"\\nFirst few rows of X_test:\")\n",
        "print(X_test.head())\n",
        "print(\"\\nFirst few rows of y_test:\")\n",
        "print(y_test.head())\n"
      ]
    },
    {
      "cell_type": "markdown",
      "id": "8f79b087-8326-419c-b004-c8d3c74e88d4",
      "metadata": {
        "id": "8f79b087-8326-419c-b004-c8d3c74e88d4"
      },
      "source": [
        "## 2. Now we approach our one of the main steps, training and testing ML models\n",
        "\n",
        "These are the models I will be going with:\n",
        "\n",
        "1. Linear regression\n",
        "\n",
        "2. Decision tree regressor\n",
        "\n",
        "3. Gradient boosting regressor"
      ]
    },
    {
      "cell_type": "markdown",
      "id": "3a6aa472-ff62-4ee6-873c-4873ab8e54c5",
      "metadata": {
        "id": "3a6aa472-ff62-4ee6-873c-4873ab8e54c5"
      },
      "source": [
        "## Importing required libraires"
      ]
    },
    {
      "cell_type": "code",
      "execution_count": null,
      "id": "21ea905e-b274-4574-b3a6-e347c2c1424f",
      "metadata": {
        "id": "21ea905e-b274-4574-b3a6-e347c2c1424f"
      },
      "outputs": [],
      "source": [
        "import numpy as np\n",
        "import pandas as pd\n",
        "from sklearn.linear_model import LinearRegression\n",
        "from sklearn.tree import DecisionTreeRegressor\n",
        "from sklearn.ensemble import GradientBoostingRegressor\n",
        "from sklearn.metrics import mean_absolute_error, mean_squared_error, r2_score"
      ]
    },
    {
      "cell_type": "markdown",
      "id": "a58d96e3-245f-4606-a6d5-13ce4a621b60",
      "metadata": {
        "id": "a58d96e3-245f-4606-a6d5-13ce4a621b60"
      },
      "source": [
        "## 3. Training and Evaluating Models"
      ]
    },
    {
      "cell_type": "code",
      "execution_count": null,
      "id": "4f5c40ea-47d3-4fde-853e-14bc1c5a5328",
      "metadata": {
        "id": "4f5c40ea-47d3-4fde-853e-14bc1c5a5328",
        "outputId": "3a8dae11-7221-4b89-f306-3af50c46b8f0"
      },
      "outputs": [
        {
          "name": "stdout",
          "output_type": "stream",
          "text": [
            "Training Linear Regression...\n",
            "Training Decision Tree Regressor...\n",
            "Training Gradient Boosting Regressor...\n",
            "\n",
            "Model Performance Comparison:\n",
            "                                  MAE      RMSE        R²\n",
            "Linear Regression            0.180165  0.291618  0.999505\n",
            "Decision Tree Regressor      0.054739  1.951191  0.977831\n",
            "Gradient Boosting Regressor  0.495879  2.286565  0.969554\n"
          ]
        }
      ],
      "source": [
        "# Define models\n",
        "models = {\n",
        "    \"Linear Regression\": LinearRegression(),\n",
        "    \"Decision Tree Regressor\": DecisionTreeRegressor(random_state=42),\n",
        "    \"Gradient Boosting Regressor\": GradientBoostingRegressor(n_estimators=100, random_state=42)\n",
        "}\n",
        "\n",
        "# Function to train and evaluate models\n",
        "def evaluate_model(model, X_train, y_train, X_test, y_test):\n",
        "    model.fit(X_train, y_train)  # Train the model\n",
        "    y_pred = model.predict(X_test)  # Predict on test set\n",
        "\n",
        "    # Compute Evaluation Metrics\n",
        "    mae = mean_absolute_error(y_test, y_pred)\n",
        "    mse = mean_squared_error(y_test, y_pred)\n",
        "    rmse = np.sqrt(mse)\n",
        "    r2 = r2_score(y_test, y_pred)\n",
        "\n",
        "    return {\"MAE\": mae, \"RMSE\": rmse, \"R²\": r2}\n",
        "\n",
        "# Train and evaluate each model\n",
        "results = {}\n",
        "for name, model in models.items():\n",
        "    print(f\"Training {name}...\")\n",
        "    results[name] = evaluate_model(model, X_train, y_train, X_test, y_test)\n",
        "\n",
        "# Display results\n",
        "results_df = pd.DataFrame(results).T\n",
        "print(\"\\nModel Performance Comparison:\")\n",
        "print(results_df)\n"
      ]
    },
    {
      "cell_type": "markdown",
      "id": "4e2f3280-0405-482c-a04e-f6154693e1ca",
      "metadata": {
        "id": "4e2f3280-0405-482c-a04e-f6154693e1ca"
      },
      "source": [
        "## 4. Perform cross-validation (cross_val_score) for better model evaluation."
      ]
    },
    {
      "cell_type": "markdown",
      "id": "29e9f335-2fb7-42df-8ba5-ff0651241922",
      "metadata": {
        "id": "29e9f335-2fb7-42df-8ba5-ff0651241922"
      },
      "source": [
        "Now that we have compared our training models above, now we perfrom cross validation for better model evaluation."
      ]
    },
    {
      "cell_type": "code",
      "execution_count": null,
      "id": "dccec22c-131a-4659-b914-abc98e2f73e2",
      "metadata": {
        "id": "dccec22c-131a-4659-b914-abc98e2f73e2",
        "outputId": "df23880b-1372-4f26-cdd7-4c383d7d07f1"
      },
      "outputs": [
        {
          "name": "stdout",
          "output_type": "stream",
          "text": [
            "Performing cross-validation for Linear Regression...\n",
            "Performing cross-validation for Decision Tree Regressor...\n",
            "Performing cross-validation for Gradient Boosting Regressor...\n",
            "\n",
            "Cross-Validation Results:\n",
            "                             Mean MAE   Std MAE\n",
            "Linear Regression            0.179900  0.000531\n",
            "Decision Tree Regressor      0.058135  0.002895\n",
            "Gradient Boosting Regressor  0.486896  0.005786\n"
          ]
        }
      ],
      "source": [
        "from sklearn.model_selection import cross_val_score\n",
        "\n",
        "# Define models\n",
        "models = {\n",
        "    \"Linear Regression\": LinearRegression(),\n",
        "    \"Decision Tree Regressor\": DecisionTreeRegressor(),\n",
        "    \"Gradient Boosting Regressor\": GradientBoostingRegressor()\n",
        "}\n",
        "\n",
        "# Perform Cross-Validation\n",
        "cv_results = {}\n",
        "\n",
        "for name, model in models.items():\n",
        "    print(f\"Performing cross-validation for {name}...\")\n",
        "\n",
        "    scores = cross_val_score(model, X_train, y_train, cv=5, scoring='neg_mean_absolute_error')  # Use MAE as metric\n",
        "\n",
        "    cv_results[name] = {\n",
        "        \"Mean MAE\": -scores.mean(),   # Convert negative MAE to positive\n",
        "        \"Std MAE\": scores.std()\n",
        "    }\n",
        "\n",
        "# Convert results to DataFrame for better visualization\n",
        "cv_results_df = pd.DataFrame(cv_results).T\n",
        "print(\"\\nCross-Validation Results:\")\n",
        "print(cv_results_df)\n"
      ]
    },
    {
      "cell_type": "markdown",
      "id": "9eac8e60-2754-4470-b29b-c43d4ef5a405",
      "metadata": {
        "id": "9eac8e60-2754-4470-b29b-c43d4ef5a405"
      },
      "source": [
        "### From the above results, the findings can be summarized as follow:\n",
        "\n",
        "Linear Regression appears to be the best-performing model for this dataset based on the metrics provided.  The very high R² and low MAE/RMSE suggest a strong linear relationship. The Decision Tree Regressor performs reasonably well, but the higher RMSE suggests some sensitivity to outliers or overfitting. The Gradient Boosting Regressor, while having a decent R², has the highest error metrics, indicating it might not be the most suitable model for this particular dataset."
      ]
    },
    {
      "cell_type": "markdown",
      "id": "6a505f7a-e568-4143-9182-5a1060433393",
      "metadata": {
        "id": "6a505f7a-e568-4143-9182-5a1060433393"
      },
      "source": [
        "## 📊 Model Performance Summary Table\n",
        "\n",
        "| Model                        | MAE (Test) | RMSE (Test) | R² (Test) | Mean MAE (CV) | Std MAE (CV) |\n",
        "|------------------------------|------------|------------|-----------|--------------|-------------|\n",
        "| **Linear Regression**        | 0.180165   | 0.291618   | 0.999505  | 0.179900     | 0.000531    |\n",
        "| **Decision Tree Regressor**  | 0.054265   | 1.930452   | 0.978299  | 0.058205     | 0.002856    |\n",
        "| **Gradient Boosting Regressor** | 0.495879   | 2.286565   | 0.969554  | 0.486867     | 0.005827    |\n",
        "\n",
        "### 📌 Key Insights:\n",
        "- **Linear Regression** performed the best in terms of **R² (0.9995)**, meaning it explains almost all the variance in the data.\n",
        "- **Decision Tree Regressor** had the **lowest MAE (0.054265)** on the test set but a **higher RMSE (1.930452)**, indicating potential overfitting.\n",
        "- **Gradient Boosting Regressor** had the **highest errors**, with an MAE of **0.495879** and RMSE of **2.286565**, suggesting it might need hyperparameter tuning.\n",
        "- **Cross-Validation** results are **consistent with test results**, with **Linear Regression** showing the least variation in MAE (**Std: 0.000531**), meaning it's the most stable.\n",
        "\n"
      ]
    },
    {
      "cell_type": "markdown",
      "id": "85488855-3613-421f-9fd9-2651c1b2b0b4",
      "metadata": {
        "id": "85488855-3613-421f-9fd9-2651c1b2b0b4"
      },
      "source": [
        "# Task 5: Hyperparameter Tuning"
      ]
    },
    {
      "cell_type": "code",
      "execution_count": null,
      "id": "06a9d3ab-a9fd-4494-ae1a-11b3d7be8a25",
      "metadata": {
        "id": "06a9d3ab-a9fd-4494-ae1a-11b3d7be8a25",
        "outputId": "24fa3949-5b57-479d-8123-fd9aeb080d9c"
      },
      "outputs": [
        {
          "name": "stdout",
          "output_type": "stream",
          "text": [
            "Missing Values per Column:\n",
            "VendorID              2131\n",
            "passenger_count       2131\n",
            "RatecodeID            2131\n",
            "store_and_fwd_flag    2131\n",
            "payment_type          2131\n",
            "dtype: int64\n",
            "\n",
            "Total Missing Values in Dataset: 10655\n",
            "Training Set: X_train = (838860, 17), y_train = (838860,)\n",
            "Test Set: X_test = (209715, 17), y_test = (209715,)\n"
          ]
        },
        {
          "name": "stderr",
          "output_type": "stream",
          "text": [
            "c:\\Users\\saadu\\AppData\\Local\\Programs\\Python\\Python310\\lib\\site-packages\\sklearn\\model_selection\\_search.py:305: UserWarning: The total space of parameters 8 is smaller than n_iter=10. Running 8 iterations. For exhaustive searches, use GridSearchCV.\n",
            "  warnings.warn(\n"
          ]
        },
        {
          "name": "stdout",
          "output_type": "stream",
          "text": [
            "Best Parameters for Decision Tree: {'min_samples_split': 2, 'min_samples_leaf': 1, 'max_depth': None}\n",
            "Decision Tree Performance on Test Set: MAE=0.0547, RMSE=1.9512, R²=0.9778\n",
            "\n",
            "Best Parameters for Gradient Boosting: {'n_estimators': 100, 'max_depth': 5, 'learning_rate': 0.1}\n",
            "Gradient Boosting Performance on Test Set: MAE=0.2879, RMSE=2.0700, R²=0.9750\n"
          ]
        }
      ],
      "source": [
        "# Import necessary libraries\n",
        "from sklearn.impute import SimpleImputer\n",
        "import pandas as pd\n",
        "import numpy as np\n",
        "from sklearn.model_selection import train_test_split, RandomizedSearchCV\n",
        "from sklearn.tree import DecisionTreeRegressor\n",
        "from sklearn.ensemble import GradientBoostingRegressor\n",
        "from sklearn.metrics import mean_absolute_error, mean_squared_error, r2_score\n",
        "\n",
        "# Load Dataset\n",
        "GITHUB_URL = \"https://github.com/arsalmairaj2k/taxi_trip_analysis/raw/main/TaxiTripData.xlsx\"\n",
        "df = pd.read_excel(GITHUB_URL)\n",
        "\n",
        "# Handle Missing Values\n",
        "\n",
        "# Check for missing values\n",
        "missing_values = df.isnull().sum()\n",
        "print(\"Missing Values per Column:\")\n",
        "print(missing_values[missing_values > 0])\n",
        "\n",
        "# Total missing values in the dataset\n",
        "total_missing = df.isnull().sum().sum()\n",
        "print(f\"\\nTotal Missing Values in Dataset: {total_missing}\")\n",
        "\n",
        "# Select numeric columns and impute missing values with median\n",
        "numeric_cols = df.select_dtypes(include=['number']).columns\n",
        "imputer = SimpleImputer(strategy='median')\n",
        "df[numeric_cols] = imputer.fit_transform(df[numeric_cols])\n",
        "\n",
        "# Handle missing values in categorical columns with mode\n",
        "categorical_cols = df.select_dtypes(include=['object']).columns\n",
        "for col in categorical_cols:\n",
        "    df.loc[:, col] = df[col].fillna(df[col].mode()[0])\n",
        "\n",
        "# Convert Categorical Features to Numerical\n",
        "df['store_and_fwd_flag'] = df['store_and_fwd_flag'].astype(str)\n",
        "df = pd.get_dummies(df, columns=['store_and_fwd_flag'], drop_first=True)\n",
        "df['store_and_fwd_flag_Y'] = df['store_and_fwd_flag_Y'].astype(int)\n",
        "\n",
        "# Train-Test Split\n",
        "target_variable = 'fare_amount'\n",
        "\n",
        "# Convert datetime columns to seconds\n",
        "df['tpep_pickup_datetime'] = pd.to_datetime(\n",
        "    df['tpep_pickup_datetime']).astype('int64') // 10**9\n",
        "df['tpep_dropoff_datetime'] = pd.to_datetime(\n",
        "    df['tpep_dropoff_datetime']).astype('int64') // 10**9\n",
        "\n",
        "# Separate features (X) and target (y)\n",
        "X = df.drop(columns=[target_variable])  # Features\n",
        "y = df[target_variable]  # Target variable\n",
        "\n",
        "# Split into 80% training and 20% testing\n",
        "X_train, X_test, y_train, y_test = train_test_split(\n",
        "    X, y, test_size=0.2, random_state=42)\n",
        "\n",
        "# Print shapes of the datasets\n",
        "print(f\"Training Set: X_train = {X_train.shape}, y_train = {y_train.shape}\")\n",
        "print(f\"Test Set: X_test = {X_test.shape}, y_test = {y_test.shape}\")\n",
        "\n",
        "# Hyperparameter Tuning Using RandomizedSearchCV\n",
        "# Define smaller hyperparameter grids\n",
        "dt_param_grid = {\n",
        "    'max_depth': [5, 10, None],  # Reduced depth options\n",
        "    'min_samples_split': [2, 5],  # Fewer split options\n",
        "    'min_samples_leaf': [1, 2]  # Fewer leaf options\n",
        "}\n",
        "\n",
        "gb_param_grid = {\n",
        "    'n_estimators': [50, 100],  # Fewer estimators\n",
        "    'learning_rate': [0.01, 0.1],  # Fewer learning rates\n",
        "    'max_depth': [3, 5]  # Fewer depth options\n",
        "}\n",
        "\n",
        "# Initialize models\n",
        "dt = DecisionTreeRegressor(random_state=42)\n",
        "gb = GradientBoostingRegressor(random_state=42)\n",
        "\n",
        "# Perform RandomizedSearchCV for Decision Tree\n",
        "dt_random_search = RandomizedSearchCV(\n",
        "    dt,\n",
        "    dt_param_grid,\n",
        "    cv=3,  # Reduced folds\n",
        "    scoring='neg_mean_absolute_error',\n",
        "    n_iter=10,  # Sample 10 combinations\n",
        "    random_state=42,\n",
        "    n_jobs=-1\n",
        ")\n",
        "dt_random_search.fit(X_train, y_train)\n",
        "\n",
        "# Perform RandomizedSearchCV for Gradient Boosting\n",
        "gb_random_search = RandomizedSearchCV(\n",
        "    gb,\n",
        "    gb_param_grid,\n",
        "    cv=3,  # Reduced folds\n",
        "    scoring='neg_mean_absolute_error',\n",
        "    n_iter=10,  # Sample 10 combinations\n",
        "    random_state=42,\n",
        "    n_jobs=-1\n",
        ")\n",
        "gb_random_search.fit(X_train, y_train)\n",
        "\n",
        "# Print Best Parameters and Evaluate on Test Set\n",
        "print(\"Best Parameters for Decision Tree:\", dt_random_search.best_params_)\n",
        "best_dt = dt_random_search.best_estimator_\n",
        "dt_predictions = best_dt.predict(X_test)\n",
        "dt_mae = mean_absolute_error(y_test, dt_predictions)\n",
        "dt_rmse = np.sqrt(mean_squared_error(y_test, dt_predictions))\n",
        "dt_r2 = r2_score(y_test, dt_predictions)\n",
        "print(\n",
        "    f\"Decision Tree Performance on Test Set: MAE={dt_mae:.4f}, RMSE={dt_rmse:.4f}, R²={dt_r2:.4f}\")\n",
        "\n",
        "print(\"\\nBest Parameters for Gradient Boosting:\", gb_random_search.best_params_)\n",
        "best_gb = gb_random_search.best_estimator_\n",
        "gb_predictions = best_gb.predict(X_test)\n",
        "gb_mae = mean_absolute_error(y_test, gb_predictions)\n",
        "gb_rmse = np.sqrt(mean_squared_error(y_test, gb_predictions))\n",
        "gb_r2 = r2_score(y_test, gb_predictions)\n",
        "print(\n",
        "    f\"Gradient Boosting Performance on Test Set: MAE={gb_mae:.4f}, RMSE={gb_rmse:.4f}, R²={gb_r2:.4f}\")"
      ]
    },
    {
      "cell_type": "markdown",
      "id": "f3bac399",
      "metadata": {
        "id": "f3bac399"
      },
      "source": [
        "T6\n"
      ]
    },
    {
      "cell_type": "code",
      "execution_count": null,
      "id": "82fa7b13",
      "metadata": {
        "id": "82fa7b13",
        "outputId": "4883e907-cf63-4f30-88bc-172e7e239d04"
      },
      "outputs": [
        {
          "name": "stdout",
          "output_type": "stream",
          "text": [
            "Decision Tree - Test Performance:\n",
            "MAE=0.0547, RMSE=1.9512, R²=0.9778\n",
            "Gradient Boosting - Test Performance:\n",
            "MAE=0.2879, RMSE=2.0700, R²=0.9750\n"
          ]
        }
      ],
      "source": [
        "import numpy as np\n",
        "import matplotlib.pyplot as plt\n",
        "# import seaborn as sns\n",
        "from sklearn.metrics import mean_absolute_error, mean_squared_error, r2_score\n",
        "\n",
        "# Predictions from Best Models\n",
        "dt_best_pred = best_dt.predict(X_test)\n",
        "gb_best_pred = best_gb.predict(X_test)\n",
        "\n",
        "# Compute Metrics\n",
        "dt_mae = mean_absolute_error(y_test, dt_best_pred)\n",
        "dt_rmse = np.sqrt(mean_squared_error(y_test, dt_best_pred))\n",
        "dt_r2 = r2_score(y_test, dt_best_pred)\n",
        "\n",
        "gb_mae = mean_absolute_error(y_test, gb_best_pred)\n",
        "gb_rmse = np.sqrt(mean_squared_error(y_test, gb_best_pred))\n",
        "gb_r2 = r2_score(y_test, gb_best_pred)\n",
        "\n",
        "# Print Final Performance\n",
        "print(\n",
        "    f\"Decision Tree - Test Performance:\\nMAE={dt_mae:.4f}, RMSE={dt_rmse:.4f}, R²={dt_r2:.4f}\")\n",
        "print(\n",
        "    f\"Gradient Boosting - Test Performance:\\nMAE={gb_mae:.4f}, RMSE={gb_rmse:.4f}, R²={gb_r2:.4f}\")"
      ]
    },
    {
      "cell_type": "markdown",
      "id": "776fe545",
      "metadata": {
        "id": "776fe545"
      },
      "source": [
        "**T7**"
      ]
    },
    {
      "cell_type": "code",
      "execution_count": null,
      "id": "af5d6f30",
      "metadata": {
        "id": "af5d6f30",
        "outputId": "b49d37e8-1fb1-493e-d764-8ff255434bef"
      },
      "outputs": [
        {
          "name": "stdout",
          "output_type": "stream",
          "text": [
            "Decision Tree - Test Performance:\n",
            "MAE=0.0547, RMSE=1.9512, R²=0.9778\n",
            "Gradient Boosting - Test Performance:\n",
            "MAE=0.2879, RMSE=2.0700, R²=0.9750\n"
          ]
        },
        {
          "data": {
            "image/png": "[encoded data removed]",
            "text/plain": [
              "<Figure size 800x500 with 1 Axes>"
            ]
          },
          "metadata": {},
          "output_type": "display_data"
        },
        {
          "data": {
            "image/png": "[encoded data removed]",
            "text/plain": [
              "<Figure size 1200x500 with 2 Axes>"
            ]
          },
          "metadata": {},
          "output_type": "display_data"
        }
      ],
      "source": [
        "import numpy as np\n",
        "import matplotlib.pyplot as plt\n",
        "from sklearn.metrics import mean_absolute_error, mean_squared_error, r2_score\n",
        "\n",
        "# Predictions from Best Models\n",
        "dt_best_pred = best_dt.predict(X_test)\n",
        "gb_best_pred = best_gb.predict(X_test)\n",
        "\n",
        "# Compute Metrics\n",
        "dt_mae = mean_absolute_error(y_test, dt_best_pred)\n",
        "dt_rmse = np.sqrt(mean_squared_error(y_test, dt_best_pred))\n",
        "dt_r2 = r2_score(y_test, dt_best_pred)\n",
        "\n",
        "gb_mae = mean_absolute_error(y_test, gb_best_pred)\n",
        "gb_rmse = np.sqrt(mean_squared_error(y_test, gb_best_pred))\n",
        "gb_r2 = r2_score(y_test, gb_best_pred)\n",
        "\n",
        "# Print Final Performance\n",
        "print(\n",
        "    f\"Decision Tree - Test Performance:\\nMAE={dt_mae:.4f}, RMSE={dt_rmse:.4f}, R²={dt_r2:.4f}\")\n",
        "print(\n",
        "    f\"Gradient Boosting - Test Performance:\\nMAE={gb_mae:.4f}, RMSE={gb_rmse:.4f}, R²={gb_r2:.4f}\")\n",
        "\n",
        "# --- Visualization ---\n",
        "\n",
        "# Bar Plot for Model Metrics\n",
        "metrics = [\"MAE\", \"RMSE\", \"R²\"]\n",
        "dt_scores = [dt_mae, dt_rmse, dt_r2]\n",
        "gb_scores = [gb_mae, gb_rmse, gb_r2]\n",
        "\n",
        "x = np.arange(len(metrics))\n",
        "width = 0.3\n",
        "\n",
        "fig, ax = plt.subplots(figsize=(8, 5))\n",
        "ax.bar(x - width/2, dt_scores, width, label=\"Decision Tree\", color='royalblue')\n",
        "ax.bar(x + width/2, gb_scores, width,\n",
        "       label=\"Gradient Boosting\", color='darkorange')\n",
        "\n",
        "ax.set_xlabel(\"Metrics\")\n",
        "ax.set_ylabel(\"Score\")\n",
        "ax.set_title(\"Model Performance Comparison\")\n",
        "ax.set_xticks(x)\n",
        "ax.set_xticklabels(metrics)\n",
        "ax.legend()\n",
        "ax.grid(axis='y', linestyle='--', alpha=0.7)\n",
        "\n",
        "plt.show()\n",
        "\n",
        "# Scatter Plots: Actual vs. Predicted\n",
        "fig, axes = plt.subplots(1, 2, figsize=(12, 5))\n",
        "\n",
        "# Decision Tree\n",
        "axes[0].scatter(y_test, dt_best_pred, color=\"royalblue\", alpha=0.7)\n",
        "axes[0].plot([min(y_test), max(y_test)], [\n",
        "             min(y_test), max(y_test)], '--', color='black')\n",
        "axes[0].set_title(\"Decision Tree: Actual vs. Predicted\")\n",
        "axes[0].set_xlabel(\"Actual Values\")\n",
        "axes[0].set_ylabel(\"Predicted Values\")\n",
        "\n",
        "# Gradient Boosting\n",
        "axes[1].scatter(y_test, gb_best_pred, color=\"darkorange\", alpha=0.7)\n",
        "axes[1].plot([min(y_test), max(y_test)], [\n",
        "             min(y_test), max(y_test)], '--', color='black')\n",
        "axes[1].set_title(\"Gradient Boosting: Actual vs. Predicted\")\n",
        "axes[1].set_xlabel(\"Actual Values\")\n",
        "axes[1].set_ylabel(\"Predicted Values\")\n",
        "\n",
        "plt.tight_layout()\n",
        "plt.show()"
      ]
    },
    {
      "cell_type": "markdown",
      "source": [
        "Initial Results:\n",
        "\n",
        "Decision Tree: MAE = 0.054265, RMSE = 1.930452, R² = 0.978299\n",
        "Gradient Boosting: MAE = 0.495879, RMSE = 2.286565, R² = 0.969554\n",
        "Optimized Results (after optimization):\n",
        "\n",
        "Decision Tree: MAE = 0.0547, RMSE = 1.9512, R² = 0.9778\n",
        "Gradient Boosting: MAE = 0.2879, RMSE = 2.0700, R² = 0.9750\n",
        "Analysis of Improvements:\n",
        "\n",
        "Decision Tree:\n",
        "\n",
        "MAE: Increased slightly from 0.054265 to 0.0547. This is a tiny increase in the average error, suggesting that the optimization might have slightly worsened the performance in terms of MAE. However, the change is very small and might be within the range of random variation.\n",
        "RMSE: Increased slightly from 1.930452 to 1.9512. Similar to MAE, this small increase suggests a very slight worsening in terms of RMSE.\n",
        "R²: Decreased slightly from 0.978299 to 0.9778. Again, a tiny decrease, indicating a negligible change in the proportion of variance explained by the model.\n",
        "Overall for Decision Tree: The optimization seems to have had a very marginal negative impact on the Decision Tree's performance. The changes are so small that they might not be statistically significant. It's possible that the initial hyperparameters were already quite good, and the optimization didn't find a significantly better solution.\n",
        "\n",
        "Gradient Boosting:\n",
        "\n",
        "MAE: Decreased significantly from 0.495879 to 0.2879. This is a substantial improvement, meaning the optimized model has a much lower average error.\n",
        "RMSE: Decreased significantly from 2.286565 to 2.0700. This is also a good improvement, indicating a reduction in the magnitude of errors.\n",
        "R²: Increased from 0.969554 to 0.9750. This is a noticeable improvement, suggesting the optimized model explains a larger proportion of the variance in the target variable.\n",
        "Overall for Gradient Boosting: The optimization process has significantly improved the performance of the Gradient Boosting model. The MAE and RMSE are substantially lower, and the R² is higher. This suggests that the initial hyperparameters were not optimal, and the optimization process found a much better set of parameters."
      ],
      "metadata": {
        "id": "JkKS6dKZw0-P"
      },
      "id": "JkKS6dKZw0-P"
    },
    {
      "cell_type": "code",
      "source": [],
      "metadata": {
        "id": "yVtV62ELw4av"
      },
      "id": "yVtV62ELw4av",
      "execution_count": null,
      "outputs": []
    }
  ],
  "metadata": {
    "kernelspec": {
      "display_name": "Python 3",
      "language": "python",
      "name": "python3"
    },
    "language_info": {
      "codemirror_mode": {
        "name": "ipython",
        "version": 3
      },
      "file_extension": ".py",
      "mimetype": "text/x-python",
      "name": "python",
      "nbconvert_exporter": "python",
      "pygments_lexer": "ipython3",
      "version": "3.10.4"
    },
    "colab": {
      "provenance": []
    }
  },
  "nbformat": 4,
  "nbformat_minor": 5
}